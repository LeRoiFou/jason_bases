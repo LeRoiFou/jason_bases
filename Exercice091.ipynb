{
 "cells": [
  {
   "cell_type": "markdown",
   "metadata": {},
   "source": [
    "Consigne : Créez une classe nommée “Personne” avec une méthode “presentation” qui affiche “Je suis une personne”\n",
    "\n",
    "Niveau : intermédiaire"
   ]
  },
  {
   "cell_type": "code",
   "execution_count": 1,
   "metadata": {},
   "outputs": [
    {
     "name": "stdout",
     "output_type": "stream",
     "text": [
      "Je suis une personne\n"
     ]
    }
   ],
   "source": [
    "# Résultat\n",
    "class Personne:\n",
    "    def my_func():\n",
    "        print(\"Je suis une personne\")\n",
    "\n",
    "Personne.my_func()"
   ]
  }
 ],
 "metadata": {
  "kernelspec": {
   "display_name": ".venv",
   "language": "python",
   "name": "python3"
  },
  "language_info": {
   "codemirror_mode": {
    "name": "ipython",
    "version": 3
   },
   "file_extension": ".py",
   "mimetype": "text/x-python",
   "name": "python",
   "nbconvert_exporter": "python",
   "pygments_lexer": "ipython3",
   "version": "3.9.2"
  }
 },
 "nbformat": 4,
 "nbformat_minor": 2
}
