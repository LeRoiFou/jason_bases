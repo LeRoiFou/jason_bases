{
 "cells": [
  {
   "cell_type": "markdown",
   "metadata": {},
   "source": [
    "Consigne : Étendez la classe “Personne” pour inclure un attribut “nom” et une méthode “afficher_nom” qui affiche le nom de la personne\n",
    "\n",
    "Niveau : intermédiaire"
   ]
  },
  {
   "cell_type": "code",
   "execution_count": 1,
   "metadata": {},
   "outputs": [
    {
     "name": "stdout",
     "output_type": "stream",
     "text": [
      "Votre nom est : John\n"
     ]
    }
   ],
   "source": [
    "# Résultat\n",
    "class Personne:\n",
    "    \n",
    "    def __init__(self, nom) -> None:\n",
    "        self.nom = nom\n",
    "    \n",
    "    def afficher_nom(self):\n",
    "        print(f\"Votre nom est : {self.nom}\")\n",
    "        \n",
    "personne = Personne(\"John\")\n",
    "personne.afficher_nom()"
   ]
  }
 ],
 "metadata": {
  "kernelspec": {
   "display_name": ".venv",
   "language": "python",
   "name": "python3"
  },
  "language_info": {
   "codemirror_mode": {
    "name": "ipython",
    "version": 3
   },
   "file_extension": ".py",
   "mimetype": "text/x-python",
   "name": "python",
   "nbconvert_exporter": "python",
   "pygments_lexer": "ipython3",
   "version": "3.9.2"
  }
 },
 "nbformat": 4,
 "nbformat_minor": 2
}
