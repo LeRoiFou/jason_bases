{
 "cells": [
  {
   "cell_type": "markdown",
   "metadata": {},
   "source": [
    "Consigne : Créez une classe “Etudiant” qui hérite de la classe “Personne”. \n",
    "\n",
    "Ajoutez un attribut “niveau” à la classe “Etudiant” et une méthode “presentation” qui affiche “Je suis un étudiant de niveau X”.\n",
    "\n",
    "Niveau : intermédiaire"
   ]
  },
  {
   "cell_type": "code",
   "execution_count": 24,
   "metadata": {},
   "outputs": [
    {
     "name": "stdout",
     "output_type": "stream",
     "text": [
      "Je suis un étudiant de niveau L3\n"
     ]
    }
   ],
   "source": [
    "# Résultat\n",
    "\n",
    "class Personne():\n",
    "    pass\n",
    "\n",
    "class Etudiant(Personne):\n",
    "    \n",
    "    def __init__(self, niveau):\n",
    "        \n",
    "        Personne.__init__(self)\n",
    "        self.niveau = niveau\n",
    "        \n",
    "    def presentation(self):\n",
    "        print(f\"Je suis un étudiant de niveau {self.niveau}\")\n",
    "        \n",
    "etudiant = Etudiant(\"L3\")\n",
    "etudiant.presentation()"
   ]
  }
 ],
 "metadata": {
  "kernelspec": {
   "display_name": ".venv",
   "language": "python",
   "name": "python3"
  },
  "language_info": {
   "codemirror_mode": {
    "name": "ipython",
    "version": 3
   },
   "file_extension": ".py",
   "mimetype": "text/x-python",
   "name": "python",
   "nbconvert_exporter": "python",
   "pygments_lexer": "ipython3",
   "version": "3.9.2"
  }
 },
 "nbformat": 4,
 "nbformat_minor": 2
}
